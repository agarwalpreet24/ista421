{
 "cells": [
  {
   "cell_type": "markdown",
   "metadata": {},
   "source": [
    "Question 1 - \n",
    "Assign the value 26 to a variable x and create a NumPy array y with the values [2, 36, 1, 98, 124]. Multiply those arrays element-wise and save the result in an array z. Calculate the sum of all elements in z and save your results in a new variable named Q1."
   ]
  },
  {
   "cell_type": "code",
   "execution_count": 12,
   "metadata": {},
   "outputs": [
    {
     "name": "stderr",
     "output_type": "stream",
     "text": [
      "/Users/preet/anaconda3/lib/python3.11/site-packages/pandas/core/arrays/masked.py:60: UserWarning: Pandas requires version '1.3.6' or newer of 'bottleneck' (version '1.3.5' currently installed).\n",
      "  from pandas.core import (\n"
     ]
    }
   ],
   "source": [
    "import numpy as np\n",
    "import pandas as pd"
   ]
  },
  {
   "cell_type": "code",
   "execution_count": 2,
   "metadata": {},
   "outputs": [],
   "source": [
    "x = 26\n",
    "y = np.array([2, 36, 1, 98, 124])\n",
    "z = x * y\n",
    "Q1 = np.sum(z)"
   ]
  },
  {
   "cell_type": "markdown",
   "metadata": {},
   "source": [
    "Question 2 - Generate a sequence from 21 to 400 and a second sequence from 2 to -35. Save your results in new variables named Q2_1 and Q2_2, respectively."
   ]
  },
  {
   "cell_type": "code",
   "execution_count": 5,
   "metadata": {},
   "outputs": [],
   "source": [
    "Q2_1 = np.arange(21, 401)\n",
    "Q2_2 = np.arange(2, -36, -1)"
   ]
  },
  {
   "cell_type": "markdown",
   "metadata": {},
   "source": [
    "Question 3 - Generate a sequence from −3 to 9 by 0.1 steps. Save your results in a new variable named Q3."
   ]
  },
  {
   "cell_type": "code",
   "execution_count": 7,
   "metadata": {},
   "outputs": [],
   "source": [
    "Q3 = np.arange(-3, 9.1, 0.1)"
   ]
  },
  {
   "cell_type": "markdown",
   "metadata": {},
   "source": [
    "Question 4 - Randomly sample 100 times a total of 20 elements (with replacement) from Q3. Save your results in a new list named Q4."
   ]
  },
  {
   "cell_type": "code",
   "execution_count": 10,
   "metadata": {},
   "outputs": [],
   "source": [
    "Q4 = [np.random.choice(Q3, 20, replace=True) for _ in range(100)]"
   ]
  },
  {
   "cell_type": "markdown",
   "metadata": {},
   "source": [
    "Question 5 - Define two lists with the following information. First, t includes the strings mon, tue, wed, thu, fri, sat. Second, vector m includes [90, 80, 50, 20, 5, 20]. Combine both lists into a Pandas DataFrame with 6 rows and columns. Save this as a new Dataframe named Q5."
   ]
  },
  {
   "cell_type": "code",
   "execution_count": 13,
   "metadata": {},
   "outputs": [],
   "source": [
    "t = [\"mon\", \"tue\", \"wed\", \"thu\", \"fri\", \"sat\"]\n",
    "m = [90, 80, 50, 20, 5, 20]\n",
    "Q5 = pd.DataFrame({\"Day\": t, \"Value\": m})"
   ]
  },
  {
   "cell_type": "markdown",
   "metadata": {},
   "source": [
    "Question 6 - Create three arrays of length 100 named weight (mean = 81, sd = 0.26; units = Kg), height (mean = 1.76, sd = 0.22; units = m), and age (mean = 25, sd =5; units=years) by randomly sampling three normal distributions using the ‘numpy.random.normal’ function. Generate a fourth array gender with the same length as height but by randomly sampling (with replacement) from the following list [\"A\", \"B\", \"C\"]."
   ]
  },
  {
   "cell_type": "code",
   "execution_count": 15,
   "metadata": {},
   "outputs": [],
   "source": [
    "weight = np.random.normal(loc=81, scale=0.26, size=100)\n",
    "height = np.random.normal(loc=1.76, scale=0.22, size=100)\n",
    "age = np.random.normal(loc=25, scale=5, size=100)\n",
    "gender = np.random.choice([\"A\", \"B\", \"C\"], size=100, replace=True)"
   ]
  },
  {
   "cell_type": "markdown",
   "metadata": {},
   "source": [
    "Question 7 - Create a Pandas dataframe by combining the four arrays created above in Question 6 as columns. Add a new column (BMI) with only NaNs. Save your results in a new dataframe named Q7."
   ]
  },
  {
   "cell_type": "code",
   "execution_count": 22,
   "metadata": {},
   "outputs": [],
   "source": [
    "Q7 = pd.DataFrame({ \"Weight\": weight, \"Height\": height, \"Age\": age, \"Gender\": gender})\n",
    "Q7['BMI'] = np.nan"
   ]
  },
  {
   "cell_type": "markdown",
   "metadata": {},
   "source": [
    "Question 8 - Generate a variable selection (e.g. if/else statement) that contains the result to the logical query of age under 20 or above 30. This new array should be added as a new column to Q7 named AgeGroup. The new dataframe should be saved as Q8."
   ]
  },
  {
   "cell_type": "code",
   "execution_count": 24,
   "metadata": {},
   "outputs": [],
   "source": [
    "Q7['AgeGroup'] = np.where((Q7['Age'] < 20) | (Q7['Age'] > 30), 'Under 20 or Above 30', 'Between 20 and 30')\n",
    "Q8 = Q7"
   ]
  },
  {
   "cell_type": "markdown",
   "metadata": {},
   "source": [
    "Question 9 - Calculate the “Body Mass Index” (BMI; see the equation below) for all people in the Q8 dataframe. Store the results in the BMI column in the same dataframe. Save the resulting object as Q9."
   ]
  },
  {
   "cell_type": "code",
   "execution_count": 26,
   "metadata": {},
   "outputs": [],
   "source": [
    "Q8['BMI'] = Q8['Weight'] / (Q8['Height'] ** 2)\n",
    "Q9 = Q8"
   ]
  },
  {
   "cell_type": "markdown",
   "metadata": {},
   "source": [
    "Question 10 - Create a function that calculates the BMI (see equation above). It should take only two arguments (height and weight) and it should return a numerical value. This function must be saved as function_Q10. You must show that this function works (e.g. run function_Q10 using height and weight columns from Q9)."
   ]
  },
  {
   "cell_type": "code",
   "execution_count": 28,
   "metadata": {},
   "outputs": [],
   "source": [
    "def function_Q10(weight, height):\n",
    "    return weight / (height ** 2)"
   ]
  },
  {
   "cell_type": "code",
   "execution_count": 29,
   "metadata": {},
   "outputs": [],
   "source": [
    "Q9['Calculated_BMI'] = function_Q10(Q9['Weight'], Q9['Height'])"
   ]
  },
  {
   "cell_type": "code",
   "execution_count": 30,
   "metadata": {},
   "outputs": [
    {
     "data": {
      "text/html": [
       "<div>\n",
       "<style scoped>\n",
       "    .dataframe tbody tr th:only-of-type {\n",
       "        vertical-align: middle;\n",
       "    }\n",
       "\n",
       "    .dataframe tbody tr th {\n",
       "        vertical-align: top;\n",
       "    }\n",
       "\n",
       "    .dataframe thead th {\n",
       "        text-align: right;\n",
       "    }\n",
       "</style>\n",
       "<table border=\"1\" class=\"dataframe\">\n",
       "  <thead>\n",
       "    <tr style=\"text-align: right;\">\n",
       "      <th></th>\n",
       "      <th>Weight</th>\n",
       "      <th>Height</th>\n",
       "      <th>Age</th>\n",
       "      <th>Gender</th>\n",
       "      <th>BMI</th>\n",
       "      <th>AgeGroup</th>\n",
       "      <th>Calculated_BMI</th>\n",
       "    </tr>\n",
       "  </thead>\n",
       "  <tbody>\n",
       "    <tr>\n",
       "      <th>0</th>\n",
       "      <td>81.016779</td>\n",
       "      <td>1.677924</td>\n",
       "      <td>14.783017</td>\n",
       "      <td>B</td>\n",
       "      <td>28.776010</td>\n",
       "      <td>Under 20 or Above 30</td>\n",
       "      <td>28.776010</td>\n",
       "    </tr>\n",
       "    <tr>\n",
       "      <th>1</th>\n",
       "      <td>81.121166</td>\n",
       "      <td>1.324884</td>\n",
       "      <td>28.621862</td>\n",
       "      <td>A</td>\n",
       "      <td>46.214556</td>\n",
       "      <td>Between 20 and 30</td>\n",
       "      <td>46.214556</td>\n",
       "    </tr>\n",
       "    <tr>\n",
       "      <th>2</th>\n",
       "      <td>81.155994</td>\n",
       "      <td>1.590793</td>\n",
       "      <td>28.447678</td>\n",
       "      <td>C</td>\n",
       "      <td>32.069578</td>\n",
       "      <td>Between 20 and 30</td>\n",
       "      <td>32.069578</td>\n",
       "    </tr>\n",
       "    <tr>\n",
       "      <th>3</th>\n",
       "      <td>81.145818</td>\n",
       "      <td>1.796565</td>\n",
       "      <td>14.995549</td>\n",
       "      <td>B</td>\n",
       "      <td>25.140856</td>\n",
       "      <td>Under 20 or Above 30</td>\n",
       "      <td>25.140856</td>\n",
       "    </tr>\n",
       "    <tr>\n",
       "      <th>4</th>\n",
       "      <td>81.237114</td>\n",
       "      <td>1.337397</td>\n",
       "      <td>20.603518</td>\n",
       "      <td>B</td>\n",
       "      <td>45.418634</td>\n",
       "      <td>Between 20 and 30</td>\n",
       "      <td>45.418634</td>\n",
       "    </tr>\n",
       "    <tr>\n",
       "      <th>...</th>\n",
       "      <td>...</td>\n",
       "      <td>...</td>\n",
       "      <td>...</td>\n",
       "      <td>...</td>\n",
       "      <td>...</td>\n",
       "      <td>...</td>\n",
       "      <td>...</td>\n",
       "    </tr>\n",
       "    <tr>\n",
       "      <th>95</th>\n",
       "      <td>81.334120</td>\n",
       "      <td>1.870639</td>\n",
       "      <td>33.589235</td>\n",
       "      <td>C</td>\n",
       "      <td>23.243026</td>\n",
       "      <td>Under 20 or Above 30</td>\n",
       "      <td>23.243026</td>\n",
       "    </tr>\n",
       "    <tr>\n",
       "      <th>96</th>\n",
       "      <td>80.630689</td>\n",
       "      <td>2.009539</td>\n",
       "      <td>22.302676</td>\n",
       "      <td>A</td>\n",
       "      <td>19.966745</td>\n",
       "      <td>Between 20 and 30</td>\n",
       "      <td>19.966745</td>\n",
       "    </tr>\n",
       "    <tr>\n",
       "      <th>97</th>\n",
       "      <td>80.754023</td>\n",
       "      <td>2.227123</td>\n",
       "      <td>23.639049</td>\n",
       "      <td>A</td>\n",
       "      <td>16.280798</td>\n",
       "      <td>Between 20 and 30</td>\n",
       "      <td>16.280798</td>\n",
       "    </tr>\n",
       "    <tr>\n",
       "      <th>98</th>\n",
       "      <td>81.132814</td>\n",
       "      <td>1.537245</td>\n",
       "      <td>21.894149</td>\n",
       "      <td>B</td>\n",
       "      <td>34.332900</td>\n",
       "      <td>Between 20 and 30</td>\n",
       "      <td>34.332900</td>\n",
       "    </tr>\n",
       "    <tr>\n",
       "      <th>99</th>\n",
       "      <td>80.977435</td>\n",
       "      <td>2.159897</td>\n",
       "      <td>21.966529</td>\n",
       "      <td>A</td>\n",
       "      <td>17.357934</td>\n",
       "      <td>Between 20 and 30</td>\n",
       "      <td>17.357934</td>\n",
       "    </tr>\n",
       "  </tbody>\n",
       "</table>\n",
       "<p>100 rows × 7 columns</p>\n",
       "</div>"
      ],
      "text/plain": [
       "       Weight    Height        Age Gender        BMI              AgeGroup  \\\n",
       "0   81.016779  1.677924  14.783017      B  28.776010  Under 20 or Above 30   \n",
       "1   81.121166  1.324884  28.621862      A  46.214556     Between 20 and 30   \n",
       "2   81.155994  1.590793  28.447678      C  32.069578     Between 20 and 30   \n",
       "3   81.145818  1.796565  14.995549      B  25.140856  Under 20 or Above 30   \n",
       "4   81.237114  1.337397  20.603518      B  45.418634     Between 20 and 30   \n",
       "..        ...       ...        ...    ...        ...                   ...   \n",
       "95  81.334120  1.870639  33.589235      C  23.243026  Under 20 or Above 30   \n",
       "96  80.630689  2.009539  22.302676      A  19.966745     Between 20 and 30   \n",
       "97  80.754023  2.227123  23.639049      A  16.280798     Between 20 and 30   \n",
       "98  81.132814  1.537245  21.894149      B  34.332900     Between 20 and 30   \n",
       "99  80.977435  2.159897  21.966529      A  17.357934     Between 20 and 30   \n",
       "\n",
       "    Calculated_BMI  \n",
       "0        28.776010  \n",
       "1        46.214556  \n",
       "2        32.069578  \n",
       "3        25.140856  \n",
       "4        45.418634  \n",
       "..             ...  \n",
       "95       23.243026  \n",
       "96       19.966745  \n",
       "97       16.280798  \n",
       "98       34.332900  \n",
       "99       17.357934  \n",
       "\n",
       "[100 rows x 7 columns]"
      ]
     },
     "execution_count": 30,
     "metadata": {},
     "output_type": "execute_result"
    }
   ],
   "source": [
    "Q9"
   ]
  },
  {
   "cell_type": "markdown",
   "metadata": {},
   "source": [
    "Question 11 - Create a function that calculates the mean BMI for a particular gender. This function (function_Q11) must take only two arguments. First, a dataframe (with or without BMI estimates). Second, a target gender (see levels in Question 6). This function must be saved as function_Q11. You must show that the function calculates the mean BMI for a particular gender (e.g. run function_Q11 with gender A)."
   ]
  },
  {
   "cell_type": "code",
   "execution_count": 31,
   "metadata": {},
   "outputs": [],
   "source": [
    "def function_Q11(df, gender):\n",
    "    gender_df = df[df['Gender'] == gender]\n",
    "    bmi_mean = gender_df['BMI'].mean()\n",
    "    return bmi_mean"
   ]
  },
  {
   "cell_type": "code",
   "execution_count": 36,
   "metadata": {},
   "outputs": [
    {
     "name": "stdout",
     "output_type": "stream",
     "text": [
      "28.089710257657142\n",
      "27.701596116510352\n",
      "26.52308187512233\n"
     ]
    }
   ],
   "source": [
    "print(function_Q11(Q9, 'A'))\n",
    "print(function_Q11(Q9, 'B'))\n",
    "print(function_Q11(Q9, 'C'))"
   ]
  },
  {
   "cell_type": "markdown",
   "metadata": {},
   "source": [
    "Question 12 - Append a new column (BMIc, see below) to the Q9 dataframe with a new array that corrects BMI values according to the AgeGroup column. Specifically, the new column (BMIc) should follow the structure: if a participant’s age is within the target age group (TRUE for the AgeGroup column), add 10% to the original BMI. If not, use the original BMI estimate. Save the resulting dataframe as Q12."
   ]
  },
  {
   "cell_type": "code",
   "execution_count": 37,
   "metadata": {},
   "outputs": [],
   "source": [
    "Q9['BMIc'] = np.where(Q9['AgeGroup'] == 'Between 20 and 30', Q9['BMI'] * 1.10, Q9['BMI'])\n",
    "Q12 = Q9"
   ]
  },
  {
   "cell_type": "code",
   "execution_count": 38,
   "metadata": {},
   "outputs": [
    {
     "data": {
      "text/html": [
       "<div>\n",
       "<style scoped>\n",
       "    .dataframe tbody tr th:only-of-type {\n",
       "        vertical-align: middle;\n",
       "    }\n",
       "\n",
       "    .dataframe tbody tr th {\n",
       "        vertical-align: top;\n",
       "    }\n",
       "\n",
       "    .dataframe thead th {\n",
       "        text-align: right;\n",
       "    }\n",
       "</style>\n",
       "<table border=\"1\" class=\"dataframe\">\n",
       "  <thead>\n",
       "    <tr style=\"text-align: right;\">\n",
       "      <th></th>\n",
       "      <th>Weight</th>\n",
       "      <th>Height</th>\n",
       "      <th>Age</th>\n",
       "      <th>Gender</th>\n",
       "      <th>BMI</th>\n",
       "      <th>AgeGroup</th>\n",
       "      <th>Calculated_BMI</th>\n",
       "      <th>BMIc</th>\n",
       "    </tr>\n",
       "  </thead>\n",
       "  <tbody>\n",
       "    <tr>\n",
       "      <th>0</th>\n",
       "      <td>81.016779</td>\n",
       "      <td>1.677924</td>\n",
       "      <td>14.783017</td>\n",
       "      <td>B</td>\n",
       "      <td>28.776010</td>\n",
       "      <td>Under 20 or Above 30</td>\n",
       "      <td>28.776010</td>\n",
       "      <td>28.776010</td>\n",
       "    </tr>\n",
       "    <tr>\n",
       "      <th>1</th>\n",
       "      <td>81.121166</td>\n",
       "      <td>1.324884</td>\n",
       "      <td>28.621862</td>\n",
       "      <td>A</td>\n",
       "      <td>46.214556</td>\n",
       "      <td>Between 20 and 30</td>\n",
       "      <td>46.214556</td>\n",
       "      <td>50.836012</td>\n",
       "    </tr>\n",
       "    <tr>\n",
       "      <th>2</th>\n",
       "      <td>81.155994</td>\n",
       "      <td>1.590793</td>\n",
       "      <td>28.447678</td>\n",
       "      <td>C</td>\n",
       "      <td>32.069578</td>\n",
       "      <td>Between 20 and 30</td>\n",
       "      <td>32.069578</td>\n",
       "      <td>35.276535</td>\n",
       "    </tr>\n",
       "    <tr>\n",
       "      <th>3</th>\n",
       "      <td>81.145818</td>\n",
       "      <td>1.796565</td>\n",
       "      <td>14.995549</td>\n",
       "      <td>B</td>\n",
       "      <td>25.140856</td>\n",
       "      <td>Under 20 or Above 30</td>\n",
       "      <td>25.140856</td>\n",
       "      <td>25.140856</td>\n",
       "    </tr>\n",
       "    <tr>\n",
       "      <th>4</th>\n",
       "      <td>81.237114</td>\n",
       "      <td>1.337397</td>\n",
       "      <td>20.603518</td>\n",
       "      <td>B</td>\n",
       "      <td>45.418634</td>\n",
       "      <td>Between 20 and 30</td>\n",
       "      <td>45.418634</td>\n",
       "      <td>49.960497</td>\n",
       "    </tr>\n",
       "    <tr>\n",
       "      <th>...</th>\n",
       "      <td>...</td>\n",
       "      <td>...</td>\n",
       "      <td>...</td>\n",
       "      <td>...</td>\n",
       "      <td>...</td>\n",
       "      <td>...</td>\n",
       "      <td>...</td>\n",
       "      <td>...</td>\n",
       "    </tr>\n",
       "    <tr>\n",
       "      <th>95</th>\n",
       "      <td>81.334120</td>\n",
       "      <td>1.870639</td>\n",
       "      <td>33.589235</td>\n",
       "      <td>C</td>\n",
       "      <td>23.243026</td>\n",
       "      <td>Under 20 or Above 30</td>\n",
       "      <td>23.243026</td>\n",
       "      <td>23.243026</td>\n",
       "    </tr>\n",
       "    <tr>\n",
       "      <th>96</th>\n",
       "      <td>80.630689</td>\n",
       "      <td>2.009539</td>\n",
       "      <td>22.302676</td>\n",
       "      <td>A</td>\n",
       "      <td>19.966745</td>\n",
       "      <td>Between 20 and 30</td>\n",
       "      <td>19.966745</td>\n",
       "      <td>21.963420</td>\n",
       "    </tr>\n",
       "    <tr>\n",
       "      <th>97</th>\n",
       "      <td>80.754023</td>\n",
       "      <td>2.227123</td>\n",
       "      <td>23.639049</td>\n",
       "      <td>A</td>\n",
       "      <td>16.280798</td>\n",
       "      <td>Between 20 and 30</td>\n",
       "      <td>16.280798</td>\n",
       "      <td>17.908878</td>\n",
       "    </tr>\n",
       "    <tr>\n",
       "      <th>98</th>\n",
       "      <td>81.132814</td>\n",
       "      <td>1.537245</td>\n",
       "      <td>21.894149</td>\n",
       "      <td>B</td>\n",
       "      <td>34.332900</td>\n",
       "      <td>Between 20 and 30</td>\n",
       "      <td>34.332900</td>\n",
       "      <td>37.766190</td>\n",
       "    </tr>\n",
       "    <tr>\n",
       "      <th>99</th>\n",
       "      <td>80.977435</td>\n",
       "      <td>2.159897</td>\n",
       "      <td>21.966529</td>\n",
       "      <td>A</td>\n",
       "      <td>17.357934</td>\n",
       "      <td>Between 20 and 30</td>\n",
       "      <td>17.357934</td>\n",
       "      <td>19.093727</td>\n",
       "    </tr>\n",
       "  </tbody>\n",
       "</table>\n",
       "<p>100 rows × 8 columns</p>\n",
       "</div>"
      ],
      "text/plain": [
       "       Weight    Height        Age Gender        BMI              AgeGroup  \\\n",
       "0   81.016779  1.677924  14.783017      B  28.776010  Under 20 or Above 30   \n",
       "1   81.121166  1.324884  28.621862      A  46.214556     Between 20 and 30   \n",
       "2   81.155994  1.590793  28.447678      C  32.069578     Between 20 and 30   \n",
       "3   81.145818  1.796565  14.995549      B  25.140856  Under 20 or Above 30   \n",
       "4   81.237114  1.337397  20.603518      B  45.418634     Between 20 and 30   \n",
       "..        ...       ...        ...    ...        ...                   ...   \n",
       "95  81.334120  1.870639  33.589235      C  23.243026  Under 20 or Above 30   \n",
       "96  80.630689  2.009539  22.302676      A  19.966745     Between 20 and 30   \n",
       "97  80.754023  2.227123  23.639049      A  16.280798     Between 20 and 30   \n",
       "98  81.132814  1.537245  21.894149      B  34.332900     Between 20 and 30   \n",
       "99  80.977435  2.159897  21.966529      A  17.357934     Between 20 and 30   \n",
       "\n",
       "    Calculated_BMI       BMIc  \n",
       "0        28.776010  28.776010  \n",
       "1        46.214556  50.836012  \n",
       "2        32.069578  35.276535  \n",
       "3        25.140856  25.140856  \n",
       "4        45.418634  49.960497  \n",
       "..             ...        ...  \n",
       "95       23.243026  23.243026  \n",
       "96       19.966745  21.963420  \n",
       "97       16.280798  17.908878  \n",
       "98       34.332900  37.766190  \n",
       "99       17.357934  19.093727  \n",
       "\n",
       "[100 rows x 8 columns]"
      ]
     },
     "execution_count": 38,
     "metadata": {},
     "output_type": "execute_result"
    }
   ],
   "source": [
    "Q12"
   ]
  }
 ],
 "metadata": {
  "kernelspec": {
   "display_name": "Python 3 (ipykernel)",
   "language": "python",
   "name": "python3"
  },
  "language_info": {
   "codemirror_mode": {
    "name": "ipython",
    "version": 3
   },
   "file_extension": ".py",
   "mimetype": "text/x-python",
   "name": "python",
   "nbconvert_exporter": "python",
   "pygments_lexer": "ipython3",
   "version": "3.11.4"
  }
 },
 "nbformat": 4,
 "nbformat_minor": 2
}
